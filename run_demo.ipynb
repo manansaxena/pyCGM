{
 "cells": [
  {
   "cell_type": "code",
   "execution_count": null,
   "metadata": {},
   "outputs": [],
   "source": [
    "! git clone https://github.com/cadop/pyCGM.git"
   ]
  },
  {
   "cell_type": "code",
   "execution_count": null,
   "metadata": {},
   "outputs": [],
   "source": [
    "#     parser.add_argument('--dynamic_trial', type=str, required=True)\n",
    "#     parser.add_argument('--static_trial', type=str, required=True)\n",
    "#     parser.add_argument('--vsk_file', type=str,required=True)\n",
    "#     parser.add_argument('--outputDir', type=str,default='./output/')\n",
    "#     parser.add_argument('--player',type=int,required=True) [1 or 2]"
   ]
  },
  {
   "cell_type": "code",
   "execution_count": 38,
   "metadata": {},
   "outputs": [
    {
     "name": "stdout",
     "output_type": "stream",
     "text": [
      "Using python 3\n",
      "Using python 3 c3d loader - c3dpy3\n",
      "storage/Trinity Data/mocap _data/Upper01.c3d\n",
      "678\n",
      "storage/Trinity Data/mocap _data/Static.c3d\n",
      "502\n"
     ]
    }
   ],
   "source": [
    "!python pyCGM/pycgm_embed.py --dynamic_trial \"storage/Trinity Data/mocap _data/Upper01.c3d\" --static_trial \"storage/Trinity Data/mocap _data/Static.c3d\" --vsk_file \"storage/Trinity Data/mocap _data/Player.vsk\" --player 2 --outputDir \"storage/Trinity Data/mocap _data\""
   ]
  },
  {
   "cell_type": "code",
   "execution_count": null,
   "metadata": {},
   "outputs": [],
   "source": []
  }
 ],
 "metadata": {
  "kernelspec": {
   "display_name": "Python 3",
   "language": "python",
   "name": "python3"
  },
  "language_info": {
   "codemirror_mode": {
    "name": "ipython",
    "version": 3
   },
   "file_extension": ".py",
   "mimetype": "text/x-python",
   "name": "python",
   "nbconvert_exporter": "python",
   "pygments_lexer": "ipython3",
   "version": "3.6.8"
  }
 },
 "nbformat": 4,
 "nbformat_minor": 4
}
